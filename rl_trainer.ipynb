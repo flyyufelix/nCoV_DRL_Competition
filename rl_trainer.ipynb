{
 "cells": [
  {
   "cell_type": "markdown",
   "metadata": {},
   "source": [
    "### Sage Health Coronavirus Deep Learning Competition ###\n",
    "\n",
    "#### Method Description: ####\n",
    "\n",
    "Our approach is an adaptation of [Deep Reinforcement Learning for de-novo Drug Design](https://github.com/isayev/ReLeaSE). The idea is to first train a generative Recurrent Neural Network (Stack-RNN) on 1.5 million structures on ChEMBL22, then fine-tune the generative RNN with Reinforcement Learning using the binding affinity score of the generated ligand with [6LU7 3C Protease](https://www.rcsb.org/structure/6LU7) as reward.\n",
    "\n",
    "We use [AutoDock Vina](http://vina.scripps.edu/) to perform ligand-protein binding simulation. "
   ]
  },
  {
   "cell_type": "code",
   "execution_count": 299,
   "metadata": {},
   "outputs": [],
   "source": [
    "import sys\n",
    "import datetime\n",
    "import os\n",
    "sys.path.append('./release/')\n",
    "\n",
    "import torch\n",
    "import torch.nn as nn\n",
    "from torch.optim.lr_scheduler import ExponentialLR, StepLR\n",
    "import torch.nn.functional as F\n",
    "\n",
    "import numpy as np\n",
    "from tqdm import tqdm, trange, tnrange, tqdm_notebook\n",
    "import pickle\n",
    "import subprocess\n",
    "from rdkit import Chem, DataStructs\n",
    "\n",
    "from rdkit import rdBase\n",
    "rdBase.DisableLog('rdApp.error')\n",
    "\n",
    "from stackRNN import StackAugmentedRNN\n",
    "from data import GeneratorData\n",
    "from utils import canonical_smiles\n",
    "\n",
    "import matplotlib.pyplot as plt\n",
    "import seaborn as sns\n",
    "\n",
    "import warnings\n",
    "warnings.filterwarnings('ignore')"
   ]
  },
  {
   "cell_type": "code",
   "execution_count": 300,
   "metadata": {},
   "outputs": [],
   "source": [
    "use_cuda = torch.cuda.is_available()"
   ]
  },
  {
   "cell_type": "markdown",
   "metadata": {},
   "source": [
    "### Generative Model (Stacked-RNN) ##\n",
    "\n",
    "Load Training Data for generative RNN model ([Stacked-RNN](https://arxiv.org/pdf/1503.01007.pdf)). As described in the [paper](https://advances.sciencemag.org/content/advances/4/7/eaap7885.full.pdf), Stacked-RNN is better than standard RNN implementations such as LSTM or GRU in its ability to capture long-term dependencies and count token occurrence.\n",
    "\n",
    "Training data is from on 1.5 million structures on [ChEMBL22](https://www.ebi.ac.uk/chembl/)"
   ]
  },
  {
   "cell_type": "code",
   "execution_count": 301,
   "metadata": {},
   "outputs": [],
   "source": [
    "gen_data_path = './data/chembl_22_clean_1576904_sorted_std_final.smi'"
   ]
  },
  {
   "cell_type": "code",
   "execution_count": 302,
   "metadata": {},
   "outputs": [],
   "source": [
    "tokens = ['<', '>', '#', '%', ')', '(', '+', '-', '/', '.', '1', '0', '3', '2', '5', '4', '7',\n",
    "          '6', '9', '8', '=', 'A', '@', 'C', 'B', 'F', 'I', 'H', 'O', 'N', 'P', 'S', '[', ']',\n",
    "          '\\\\', 'c', 'e', 'i', 'l', 'o', 'n', 'p', 's', 'r', '\\n']"
   ]
  },
  {
   "cell_type": "code",
   "execution_count": 303,
   "metadata": {},
   "outputs": [],
   "source": [
    "gen_data = GeneratorData(training_data_path=gen_data_path, delimiter='\\t',\n",
    "                         cols_to_read=[0], keep_header=True, tokens=tokens)"
   ]
  },
  {
   "cell_type": "markdown",
   "metadata": {},
   "source": [
    "### Load Pretrain Model for Stacked-RNN ### \n",
    "\n",
    "Initialize and load our Stacked-RNN model. We use the pretrained model made available from https://github.com/isayev/ReLeaSE. "
   ]
  },
  {
   "cell_type": "code",
   "execution_count": 304,
   "metadata": {},
   "outputs": [],
   "source": [
    "# Params for RNN Generator\n",
    "hidden_size = 1500\n",
    "stack_width = 1500\n",
    "stack_depth = 200\n",
    "layer_type = 'GRU'\n",
    "lr = 0.001\n",
    "optimizer_instance = torch.optim.Adadelta"
   ]
  },
  {
   "cell_type": "code",
   "execution_count": 305,
   "metadata": {},
   "outputs": [],
   "source": [
    "my_generator = StackAugmentedRNN(input_size=gen_data.n_characters,\n",
    "                                     hidden_size=hidden_size,\n",
    "                                     output_size=gen_data.n_characters,\n",
    "                                     layer_type=layer_type,\n",
    "                                     n_layers=1, is_bidirectional=False, has_stack=True,\n",
    "                                     stack_width=stack_width, stack_depth=stack_depth,\n",
    "                                     use_cuda=use_cuda,\n",
    "                                     optimizer_instance=optimizer_instance, lr=lr)"
   ]
  },
  {
   "cell_type": "code",
   "execution_count": 306,
   "metadata": {},
   "outputs": [],
   "source": [
    "model_path = './checkpoints/generator/checkpoint_biggest_rnn'\n",
    "\n",
    "my_generator.load_model(model_path)"
   ]
  },
  {
   "cell_type": "markdown",
   "metadata": {},
   "source": [
    "### Reinforcement Learning to fine-tune ligand ###\n",
    "\n",
    "First initialize our Reinforcement Learning Agent. It is a Vanilla Policy Gradient algorithm (REINFORCE)"
   ]
  },
  {
   "cell_type": "code",
   "execution_count": 307,
   "metadata": {},
   "outputs": [],
   "source": [
    "from reinforcement import Reinforcement"
   ]
  },
  {
   "cell_type": "code",
   "execution_count": 308,
   "metadata": {},
   "outputs": [],
   "source": [
    "# Params for RL\n",
    "n_policy = 30\n",
    "n_iterations = 100\n",
    "n_batch = 10"
   ]
  },
  {
   "cell_type": "markdown",
   "metadata": {},
   "source": [
    "File to save our most promising ligands with the highest binding scores   "
   ]
  },
  {
   "cell_type": "code",
   "execution_count": 309,
   "metadata": {},
   "outputs": [],
   "source": [
    "top_ligands_file = \"top_ligands.txt\"\n",
    "\n",
    "if os.path.exists(top_ligands_file):\n",
    "    os.remove(top_ligands_file)"
   ]
  },
  {
   "cell_type": "markdown",
   "metadata": {},
   "source": [
    "### Reward Function for RL Training ###\n",
    "\n",
    "Reward for RL training is a function of the binding affinity score between our generated ligand and the 3C Protease receptor generated by [AutoDock Vina](http://vina.scripps.edu/). \n",
    "\n",
    "We first downloaded the 3C Protease pdb structure from https://www.rcsb.org/structure/6LU7. Since the 6LU7 structure comes together with the N3 inhibitor, we have to first seperate it out by manually examining the protein pdb file and extract the lines with keyword \"ATOM\" in it. The resulting file was saved as `receptor.pdbqt`, a format that is compatible with AutoDock Vina.\n",
    "\n",
    "To identify the binding site of the target protein, we loaded the 6LU7 pdb structure into [PyMol](https://pymol.org/2/) and used the tool to draw up a bounding box that contains the potential binding site, identified by the region of the protein that binds to the N3 inhibitor.\n",
    "\n",
    "Once we obtain the bounding box for the binding site, we fed the information to AutoDock Vina to conduct docking simulation. The exhaustiveness value was set to 3 to speed up the search. AutoDock Vina usually returns a few binding affinity value. We only take the first one (with the largest negative value) as a proxy for how well the ligand-protein binding goes.\n",
    "\n",
    "The final reward for the Reinforcement Learning algo is a function of the binding affinity score. We shape the reward such that the signal for good binding score is stronger.  "
   ]
  },
  {
   "cell_type": "code",
   "execution_count": 316,
   "metadata": {},
   "outputs": [],
   "source": [
    "def get_docking_reward(smile):\n",
    "    \"\"\"\n",
    "    Reward function for RL. Use AutoDock Vina to simulate binding affinity of our ligand with receptor protein. Use binding affinity as reward to train the RL agent\n",
    "    \"\"\"\n",
    "\n",
    "    #vina --receptor receptor.pdbqt --ligand ligand.pdbqt --log dock.log --exhaustiveness 3 --center_x -10 --center_y 10 --center_z 70 --size_x 10 --size_y 15 --size_z 15\n",
    "    vina_cmd = ['./vina','--receptor','receptor.pdbqt','--ligand','ligand.pdbqt','--log','dock.log','--exhaustiveness','3','--center_x','-10','--center_y','10','--center_z','70','--size_x','10','--size_y','15','--size_z','15']\n",
    "    \n",
    "    # Check SMILE validity\n",
    "    binding_score = -1.0 # Penalty for invalid SMILES\n",
    "    if Chem.MolFromSmiles(smile) is None:\n",
    "        return binding_score\n",
    "    else:\n",
    "        # Transform SMILES to pdbqt\n",
    "        if os.path.exists('ligand.smi'):\n",
    "            os.remove('ligand.smi')\n",
    "        if os.path.exists('ligand.pdbqt'):\n",
    "            os.remove('ligand.pdbqt')\n",
    "        with open('ligand.smi', 'w') as f:\n",
    "            f.write(smile)\n",
    "        babel_cmd = ['babel','ligand.smi','ligand.pdbqt','--gen3D']\n",
    "        out = subprocess.Popen(babel_cmd, stdout=subprocess.PIPE, stderr=subprocess.STDOUT)\n",
    "        out.communicate()\n",
    "        out = subprocess.Popen(vina_cmd, stdout=subprocess.PIPE, stderr=subprocess.STDOUT)\n",
    "        out.communicate()\n",
    "        with open('dock.log', 'r') as f:\n",
    "            for line in f:\n",
    "                if \"  1  \" in line:\n",
    "                    binding_score = line.split('      ')[1].strip()\n",
    "        try:\n",
    "            binding_score = -float(binding_score)\n",
    "        except:\n",
    "            pass\n",
    "        \n",
    "    # Strengthen the reward for good binding score\n",
    "    reward = 0.0\n",
    "    if binding_score > 6.0:\n",
    "        reward = 50.0\n",
    "    elif binding_score > 5.5:\n",
    "        reward = 40.0\n",
    "    elif binding_score > 5.0:\n",
    "        reward = 30.0\n",
    "    elif binding_score > 4.5:\n",
    "        reward = 10.0\n",
    "    else:\n",
    "        reward = -1.0\n",
    "        \n",
    "    # Save ligand with reward >= 5.0\n",
    "    if binding_score > 4.5:\n",
    "        with open(top_ligands_file, \"a+\") as f:\n",
    "            f.write(smile + \",\" + str(binding_score) + \",\" + str(reward) + \"\\n\")\n",
    "\n",
    "    return reward"
   ]
  },
  {
   "cell_type": "code",
   "execution_count": 317,
   "metadata": {},
   "outputs": [],
   "source": [
    "def simple_moving_average(previous_values, new_value, ma_window_size=10):\n",
    "    value_ma = np.sum(previous_values[-(ma_window_size-1):]) + new_value\n",
    "    value_ma = value_ma/(len(previous_values[-(ma_window_size-1):]) + 1)\n",
    "    return value_ma"
   ]
  },
  {
   "cell_type": "markdown",
   "metadata": {},
   "source": [
    "### Main Loop for RL (Train for 24 hours) ###"
   ]
  },
  {
   "cell_type": "code",
   "execution_count": null,
   "metadata": {},
   "outputs": [
    {
     "data": {
      "application/vnd.jupyter.widget-view+json": {
       "model_id": "c747d90abd4d4171bf7f506a807d6eca",
       "version_major": 2,
       "version_minor": 0
      },
      "text/plain": [
       "HBox(children=(FloatProgress(value=0.0, description='Policy gradient...', max=30.0, style=ProgressStyle(descri…"
      ]
     },
     "metadata": {},
     "output_type": "display_data"
    }
   ],
   "source": [
    "RL_agent = Reinforcement(my_generator, get_docking_reward)\n",
    "\n",
    "rewards = []\n",
    "train_duration = 24*60*60 # 24 hours\n",
    "\n",
    "start_time = datetime.datetime.now()\n",
    "\n",
    "train_flag = True\n",
    "for i in range(n_iterations):\n",
    "    if train_flag:\n",
    "        for j in tnrange(n_policy, desc='Policy gradient...'):\n",
    "            new_reward, _ = RL_agent.policy_gradient(gen_data, n_batch)\n",
    "            rewards.append(simple_moving_average(rewards, new_reward))\n",
    "            time_elapsed = datetime.datetime.now() - start_time\n",
    "            if time_elapsed.seconds > train_duration:\n",
    "                print(\"Training exceed train duration!\")\n",
    "                train_flag = False\n",
    "                break\n",
    "    else:\n",
    "        break\n",
    "        \n",
    "    plt.plot(rewards)\n",
    "    plt.xlabel('Training iteration')\n",
    "    plt.ylabel('Average reward')\n",
    "    plt.show()"
   ]
  },
  {
   "cell_type": "markdown",
   "metadata": {},
   "source": [
    "### Draw Up Top 20 Ligands ###\n",
    "\n",
    "We pick the 20 ligands with the top 20 binding affinity score and draw them"
   ]
  },
  {
   "cell_type": "code",
   "execution_count": 293,
   "metadata": {},
   "outputs": [
    {
     "name": "stdout",
     "output_type": "stream",
     "text": [
      "Top 20 Ligands:\n",
      "\n",
      "SMILE: CNc1nc(C)nc2ccc(cc12)C(=O)NCCCCCN(C(C)=O)c1ccccc1\n",
      "Affinity Score: 5.5\n",
      "\n",
      "SMILE: FC(F)(F)c1ccc2ncnc(Nc3ccc(Cl)nc3-c3ccc(CN4CCOCC4)c(c3)C#N)c2c1\n",
      "Affinity Score: 5.1\n",
      "\n",
      "SMILE: N1c2c(Sc3ncccc3N3CCN(CC3)c3ccccc3F)ncnc2-c2ccccc12\n",
      "Affinity Score: 5.1\n",
      "\n",
      "SMILE: Clc1ccccc1CN1CC(CC1=O)n1ncc2c1ccnc2c1ccc(Cl)cc1Cl\n",
      "Affinity Score: 5.1\n",
      "\n",
      "SMILE: FC(F)Oc1ccc(CNC(=O)CCc2cccc(Cl)c2)cc1\n",
      "Affinity Score: 4.8\n",
      "\n",
      "SMILE: CC(C)CN(C)C(=O)C1CCCN(CCc2ccc(cc2)-c2ccc(F)cc2)C1\n",
      "Affinity Score: 4.8\n",
      "\n",
      "SMILE: CCOC(=O)C1CCCN(C1)C(=O)CSC1=NC(=O)c2c(N1)cccc2C\n",
      "Affinity Score: 4.8\n",
      "\n"
     ]
    }
   ],
   "source": [
    "ligand_list = []\n",
    "with open(top_ligands_file, \"r\") as f:\n",
    "    for line in f:\n",
    "        row_list = line.split(\",\")\n",
    "        ligand_list.append({\n",
    "            \"smile\": row_list[0],\n",
    "            \"binding_score\": float(row_list[1])\n",
    "        })\n",
    "        \n",
    "ligand_list = sorted(ligand_list, key=lambda x: x[\"binding_score\"], reverse=True)\n",
    "\n",
    "top_k = 20\n",
    "top_ligands = []\n",
    "top_scores = []\n",
    "print(\"Top 20 Ligands:\" + \"\\n\")\n",
    "for i, ligand in enumerate(ligand_list):\n",
    "    if i < top_k:\n",
    "        top_ligands.append(ligand[\"smile\"])\n",
    "        top_scores.append(ligand[\"binding_score\"])\n",
    "        print(\"SMILE: \" + ligand[\"smile\"])\n",
    "        print(\"Affinity Score: \" + str(ligand[\"binding_score\"]) + \"\\n\")"
   ]
  },
  {
   "cell_type": "code",
   "execution_count": 284,
   "metadata": {},
   "outputs": [],
   "source": [
    "from rdkit.Chem.Draw import DrawingOptions\n",
    "from rdkit.Chem import Draw\n",
    "DrawingOptions.atomLabelFontSize = 50\n",
    "DrawingOptions.dotsPerAngstrom = 100\n",
    "DrawingOptions.bondLineWidth = 3"
   ]
  },
  {
   "cell_type": "code",
   "execution_count": 285,
   "metadata": {},
   "outputs": [],
   "source": [
    "generated_mols = [Chem.MolFromSmiles(sm, sanitize=True) for sm in top_ligands]"
   ]
  },
  {
   "cell_type": "code",
   "execution_count": 286,
   "metadata": {},
   "outputs": [],
   "source": [
    "sanitized_gen_mols = [generated_mols[i] for i in np.where(np.array(generated_mols) != None)[0]]"
   ]
  },
  {
   "cell_type": "code",
   "execution_count": 287,
   "metadata": {},
   "outputs": [],
   "source": [
    "legends = ['Binding Score = ' + str(top_scores[i]) for i in range(len(top_scores))]"
   ]
  },
  {
   "cell_type": "code",
   "execution_count": 288,
   "metadata": {},
   "outputs": [
    {
     "data": {
      "image/png": "[encoded data removed]",
      "text/plain": [
       "<PIL.PngImagePlugin.PngImageFile image mode=RGB size=1000x400 at 0x7FEC560E8278>"
      ]
     },
     "execution_count": 288,
     "metadata": {},
     "output_type": "execute_result"
    }
   ],
   "source": [
    "Draw.MolsToGridImage(sanitized_gen_mols, molsPerRow=5, \n",
    "                     subImgSize=(200,200), legends=legends)"
   ]
  },
  {
   "cell_type": "markdown",
   "metadata": {},
   "source": [
    "### Conclusion and Evaluation ###\n",
    "\n",
    "To conclude, we were able to put together a pipeline that successfully leveraged reinforcement learning to generate candidate ligands that exhibit good binding affinity with 3C Protease. We are well aware of the fact that there exists a discrepancy between computer simulator and real laboratory environment. Given little time for this competition, we hope this work will serve as a good starting point to explore further. In particular, we want to further explore the following ideas:   \n",
    "\n",
    "#### 1) Improvement in RL algo ####\n",
    "\n",
    "The RL algo took a long time to converge and also exhibited a high variance. We can consider using some other more advanced methods such as [Proximal Policy Optimization](https://openai.com/blog/openai-baselines-ppo/) which is more stable and usually converges faster as compared to REINFORCE. \n",
    "\n",
    "Since docking simulation by AutoDock Vina is slow, we can consider using a more data efficient algo such as [Soft Actor Critic](https://arxiv.org/abs/1801.01290), another easy to use off-the-shelf RL algo. Since it's an off-policy algo, simulated data can be stored and reused.\n",
    "\n",
    "#### 2) Domain Expert ####\n",
    "\n",
    "Domain expert knowledge could potentially be incorporated to come up with a better reward function for training the RL agent. For example, a reward function that encourages molecular diversity, chemical properties such as number of desired bonds / rings structures, certain restrictions in the molecular weights, etc.  \n",
    "\n",
    "\n",
    "\n"
   ]
  },
  {
   "cell_type": "code",
   "execution_count": null,
   "metadata": {},
   "outputs": [],
   "source": []
  }
 ],
 "metadata": {
  "kernelspec": {
   "display_name": "Python 3",
   "language": "python",
   "name": "python3"
  },
  "language_info": {
   "codemirror_mode": {
    "name": "ipython",
    "version": 3
   },
   "file_extension": ".py",
   "mimetype": "text/x-python",
   "name": "python",
   "nbconvert_exporter": "python",
   "pygments_lexer": "ipython3",
   "version": "3.6.5"
  }
 },
 "nbformat": 4,
 "nbformat_minor": 4
}
